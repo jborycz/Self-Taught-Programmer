{
 "cells": [
  {
   "cell_type": "code",
   "execution_count": 1,
   "metadata": {},
   "outputs": [
    {
     "name": "stdout",
     "output_type": "stream",
     "text": [
      "Enter a number less than 10,000: 9\n",
      "9 =  0 +  0 +  0 +  9\n"
     ]
    }
   ],
   "source": [
    "def arabize():\n",
    "    num = input(\"Enter a number less than 10,000: \")\n",
    "    number = int(num)\n",
    "# Thousands place\n",
    "    th = number//1000\n",
    "    th1 = int(th)\n",
    "    z1 = th1 * int(1000)\n",
    "    number = number - z1\n",
    "# Hundreds Place\n",
    "    h = number//100\n",
    "    h1 = int(h)\n",
    "    z2 = h1 * int(100)\n",
    "    number = number - z2\n",
    "# Tens place\n",
    "    t = number//10\n",
    "    t1 = int(t)\n",
    "    z3 = t1 * int(10)\n",
    "    number = number - z3\n",
    "# Ones place\n",
    "    o = int(0)\n",
    "    z4 = number\n",
    "    print(num,\"= \",z1,\"+ \",z2,\"+ \",z3,\"+ \",z4)\n",
    "arabize()"
   ]
  },
  {
   "cell_type": "code",
   "execution_count": 2,
   "metadata": {},
   "outputs": [
    {
     "name": "stdout",
     "output_type": "stream",
     "text": [
      "Input a number: 6\n",
      "even\n"
     ]
    },
    {
     "ename": "TypeError",
     "evalue": "'module' object is not callable",
     "output_type": "error",
     "traceback": [
      "\u001b[0;31m---------------------------------------------------------------------------\u001b[0m",
      "\u001b[0;31mTypeError\u001b[0m                                 Traceback (most recent call last)",
      "\u001b[0;32m<ipython-input-2-56378e57b731>\u001b[0m in \u001b[0;36m<module>\u001b[0;34m()\u001b[0m\n\u001b[1;32m      1\u001b[0m \u001b[0;32mimport\u001b[0m \u001b[0moddeven\u001b[0m\u001b[0;34m\u001b[0m\u001b[0m\n\u001b[0;32m----> 2\u001b[0;31m \u001b[0moddeven\u001b[0m\u001b[0;34m(\u001b[0m\u001b[0;34m)\u001b[0m\u001b[0;34m\u001b[0m\u001b[0m\n\u001b[0m",
      "\u001b[0;31mTypeError\u001b[0m: 'module' object is not callable"
     ]
    }
   ],
   "source": [
    "import oddeven\n",
    "oddeven()\n"
   ]
  },
  {
   "cell_type": "code",
   "execution_count": 5,
   "metadata": {},
   "outputs": [],
   "source": [
    "import oddeven\n",
    "def f():\n",
    "    oddeven\n",
    "    \n",
    "f()"
   ]
  },
  {
   "cell_type": "code",
   "execution_count": 13,
   "metadata": {},
   "outputs": [
    {
     "name": "stdout",
     "output_type": "stream",
     "text": [
      "Input a number: 6\n",
      "even\n"
     ]
    }
   ],
   "source": [
    "%run -i 'oddeven.py'"
   ]
  },
  {
   "cell_type": "code",
   "execution_count": null,
   "metadata": {},
   "outputs": [],
   "source": []
  },
  {
   "cell_type": "code",
   "execution_count": null,
   "metadata": {},
   "outputs": [],
   "source": []
  }
 ],
 "metadata": {
  "kernelspec": {
   "display_name": "Python 3",
   "language": "python",
   "name": "python3"
  },
  "language_info": {
   "codemirror_mode": {
    "name": "ipython",
    "version": 3
   },
   "file_extension": ".py",
   "mimetype": "text/x-python",
   "name": "python",
   "nbconvert_exporter": "python",
   "pygments_lexer": "ipython3",
   "version": "3.6.4"
  }
 },
 "nbformat": 4,
 "nbformat_minor": 2
}
